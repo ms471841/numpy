{
 "cells": [
  {
   "cell_type": "code",
   "execution_count": 4,
   "id": "a8621f67",
   "metadata": {},
   "outputs": [],
   "source": [
    "import numpy as np"
   ]
  },
  {
   "cell_type": "code",
   "execution_count": null,
   "id": "a75cc6dc",
   "metadata": {},
   "outputs": [],
   "source": [
    "# creating the np array\n",
    "arr=np.array([2,4,6,8,10])\n",
    "print(arr)\n",
    "print(arr[2])"
   ]
  },
  {
   "cell_type": "code",
   "execution_count": 17,
   "id": "670feba3",
   "metadata": {},
   "outputs": [
    {
     "name": "stdout",
     "output_type": "stream",
     "text": [
      "[[2 3 5]\n",
      " [4 5 6]]\n"
     ]
    }
   ],
   "source": [
    "#creating 2-D array by passing list of list to np array\n",
    "arr2=np.array([[2,3,5],\n",
    "             [4,5,6]])\n",
    "print(arr2)"
   ]
  },
  {
   "cell_type": "code",
   "execution_count": 18,
   "id": "6acd8efa",
   "metadata": {},
   "outputs": [
    {
     "name": "stdout",
     "output_type": "stream",
     "text": [
      "(5,)\n",
      "(2, 3)\n"
     ]
    }
   ],
   "source": [
    "#printing shape of array\n",
    "print(arr.shape)\n",
    "print(arr2.shape)"
   ]
  },
  {
   "cell_type": "code",
   "execution_count": 27,
   "id": "3075b610",
   "metadata": {},
   "outputs": [
    {
     "name": "stdout",
     "output_type": "stream",
     "text": [
      "int32\n",
      "int32\n"
     ]
    }
   ],
   "source": [
    "#printing datatype of the array\n",
    "print(arr.dtype)\n",
    "print(arr2.dtype)"
   ]
  },
  {
   "cell_type": "code",
   "execution_count": 33,
   "id": "22b3a3cc",
   "metadata": {},
   "outputs": [
    {
     "name": "stdout",
     "output_type": "stream",
     "text": [
      "['2' '4' 'a' 'g']\n",
      "<U11\n"
     ]
    }
   ],
   "source": [
    "#lets make the array with diff datatype\n",
    "arrd=np.array([2,4,'a','g'])\n",
    "print(arrd)\n",
    "print(arrd.dtype)\n",
    "#arrd is homogenious, so that's why numpy automatically convert to string.\n",
    "#here wwe havve 2 things U and 11, U is unicode and 11 no. of elements \n",
    "#it can hold.\n"
   ]
  },
  {
   "cell_type": "raw",
   "id": "c599aad2",
   "metadata": {},
   "source": [
    "#specifying dtype of arrray\n",
    "ar=np.array([2,3,'5'],dtype=int)\n",
    "print(ar,ar.dtype)\n"
   ]
  }
 ],
 "metadata": {
  "kernelspec": {
   "display_name": "Python 3",
   "language": "python",
   "name": "python3"
  },
  "language_info": {
   "codemirror_mode": {
    "name": "ipython",
    "version": 3
   },
   "file_extension": ".py",
   "mimetype": "text/x-python",
   "name": "python",
   "nbconvert_exporter": "python",
   "pygments_lexer": "ipython3",
   "version": "3.8.8"
  }
 },
 "nbformat": 4,
 "nbformat_minor": 5
}
